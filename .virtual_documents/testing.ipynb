import spotipy


from spotipy.oauth2 import SpotifyClientCredentials


client_id = "  "
client_secret = "  "


sp = spotipy.Spotify(auth_manager=SpotifyClientCredentials(client_id, client_secret))


print(sp.track('2hVSYIv4IjdnaXb1OtxtTG').get("name"))


print(sp.track('2hVSYIv4IjdnaXb1OtxtTG').get("lyrics"))


import requests


api_key = "  "
endpoint = "  "


params = {
    'q_track': 'Awagaman',
    'q_artist': 'Deviate Flows',
    'apikey': api_key,
    'format': 'json'
}


response = requests.get(endpoint, params=params)
data = response.json()


data


if data['message']['header']['status_code'] == 200 and data['message']['body']['track_list']:
    track_id = data['message']['body']['track_list'][0]['track']['track_id']
    lyrics_response = requests.get(f'https://api.musixmatch.com/ws/1.1/track.lyrics.get?track_id={track_id}&apikey={api_key}')
    lyrics_data = lyrics_response.json()

    if 'lyrics' in lyrics_data['message']['body']:
        print(lyrics_data['message']['body']['lyrics']['lyrics_body'])
    else:
        print("No lyrics found for this track.")















finallyrics = lyrics_data['message']['body']['lyrics']['lyrics_body']


import re


finallyrics = re.split(r"\n\*+ This Lyrics is NOT for Commercial use \*+\n|\(\d+\)$", finallyrics)[0]


print(finallyrics)


sp = spotipy.Spotify(auth_manager=SpotifyClientCredentials(client_id=client_id, client_secret=client_secret))

def get_lyrics(track_name, artist_name):
    logging.info(f"Fetching lyrics for track: '{track_name}' by artist: '{artist_name}'")
    
    endpoint = "https://api.musixmatch.com/ws/1.1/track.search"
    params = {
        'q_track': track_name,
        'q_artist': artist_name,
        'apikey': api_key,
        'format': 'json'
    }
    
    try:
        response = requests.get(endpoint, params=params)
        response.raise_for_status()
        data = response.json()
        logging.info("API response received successfully.")

        if data['message']['header']['status_code'] == 200 and data['message']['body']['track_list']:
            track_id = data['message']['body']['track_list'][0]['track']['track_id']
            logging.info(f"Track ID found: {track_id}")
            
            lyrics_response = requests.get(f'https://api.musixmatch.com/ws/1.1/track.lyrics.get?track_id={track_id}&apikey={api_key}')
            lyrics_response.raise_for_status()
            lyrics_data = lyrics_response.json()

            if 'lyrics' in lyrics_data['message']['body']:
                lyrics = lyrics_data['message']['body']['lyrics']['lyrics_body']
                lyrics = re.split(r"\n\*+ This Lyrics is NOT for Commercial use \*+\n|\(\d+\)$", lyrics)[0]
                return lyrics.strip()
            else:
                logging.warning(f"No lyrics found for track ID: {track_id}.")
                return None
        else:
            logging.warning(f"No track ID found for '{track_name}' by '{artist_name}'.")
            return None
    except requests.exceptions.RequestException as e:
        logging.error(f"Request failed: {e}")
        return None

get_lyrics('Meethi Boliyaan','Amit Trivedi')



