{
 "cells": [
  {
   "cell_type": "code",
   "execution_count": 59,
   "id": "bba187cb-2b27-475e-988b-69599970ba02",
   "metadata": {},
   "outputs": [],
   "source": [
    "import spotipy"
   ]
  },
  {
   "cell_type": "code",
   "execution_count": 61,
   "id": "aa6c4a4b-c11e-4c60-9194-ec5c77088cf9",
   "metadata": {},
   "outputs": [],
   "source": [
    "from spotipy.oauth2 import SpotifyClientCredentials"
   ]
  },
  {
   "cell_type": "code",
   "execution_count": 63,
   "id": "df6076e7-faeb-49be-b96f-121086b9826c",
   "metadata": {},
   "outputs": [],
   "source": [
    "client_id = \"de68ee68278e466d82ae18ebade5ce7e\"\n",
    "client_secret = \"8c0b96f3f3854e8cb352c8cdae666520\""
   ]
  },
  {
   "cell_type": "code",
   "execution_count": 65,
   "id": "ca222ee1-04e3-4926-83ac-54cb475ae4f1",
   "metadata": {},
   "outputs": [],
   "source": [
    "sp = spotipy.Spotify(auth_manager=SpotifyClientCredentials(client_id, client_secret))"
   ]
  },
  {
   "cell_type": "code",
   "execution_count": 67,
   "id": "7c623970-5eba-415b-9dc0-5037fa1fd9b8",
   "metadata": {},
   "outputs": [
    {
     "name": "stdout",
     "output_type": "stream",
     "text": [
      "Kala Tikka\n"
     ]
    }
   ],
   "source": [
    "print(sp.track('2hVSYIv4IjdnaXb1OtxtTG').get(\"name\"))"
   ]
  },
  {
   "cell_type": "code",
   "execution_count": 69,
   "id": "dca88d1c-5268-4fa1-b401-444201359e89",
   "metadata": {},
   "outputs": [
    {
     "name": "stdout",
     "output_type": "stream",
     "text": [
      "None\n"
     ]
    }
   ],
   "source": [
    "print(sp.track('2hVSYIv4IjdnaXb1OtxtTG').get(\"lyrics\"))"
   ]
  },
  {
   "cell_type": "code",
   "execution_count": 71,
   "id": "e780121b-5e73-46d3-8dc1-6af5198591fa",
   "metadata": {},
   "outputs": [],
   "source": [
    "import requests"
   ]
  },
  {
   "cell_type": "code",
   "execution_count": 73,
   "id": "c6511a99-c169-40e2-8172-9f366d3e6363",
   "metadata": {},
   "outputs": [],
   "source": [
    "api_key = \"31a518f4199f09a6f2a39f4c223346e3\"\n",
    "endpoint = \"https://api.musixmatch.com/ws/1.1/track.search\""
   ]
  },
  {
   "cell_type": "code",
   "execution_count": 75,
   "id": "fa95ba0a-cadf-45a9-a804-6466db2e9bfd",
   "metadata": {},
   "outputs": [],
   "source": [
    "params = {\n",
    "    'q_track': 'Awagaman',\n",
    "    'q_artist': 'Deviate Flows',\n",
    "    'apikey': api_key,\n",
    "    'format': 'json'\n",
    "}"
   ]
  },
  {
   "cell_type": "code",
   "execution_count": 77,
   "id": "a32dc3b2-2c3f-4f53-8a3e-1db1952fa519",
   "metadata": {},
   "outputs": [],
   "source": [
    "response = requests.get(endpoint, params=params)\n",
    "data = response.json()"
   ]
  },
  {
   "cell_type": "code",
   "execution_count": 78,
   "id": "0658a1a7-f475-4ec9-b6dd-726e7b97053f",
   "metadata": {
    "scrolled": true
   },
   "outputs": [
    {
     "data": {
      "text/plain": [
       "{'message': {'header': {'status_code': 200,\n",
       "   'execute_time': 0.15619707107544,\n",
       "   'available': 1},\n",
       "  'body': {'track_list': [{'track': {'track_id': 261391704,\n",
       "      'track_name': 'Awagaman',\n",
       "      'track_name_translation_list': [],\n",
       "      'track_rating': 1,\n",
       "      'commontrack_id': 162791976,\n",
       "      'instrumental': 0,\n",
       "      'explicit': 0,\n",
       "      'has_lyrics': 1,\n",
       "      'has_subtitles': 1,\n",
       "      'has_richsync': 0,\n",
       "      'num_favourite': 0,\n",
       "      'album_id': 58296181,\n",
       "      'album_name': 'Awagaman',\n",
       "      'artist_id': 56988466,\n",
       "      'artist_name': 'Deviate Flows',\n",
       "      'track_share_url': 'https://www.musixmatch.com/lyrics/Deviate-Flows/Awagaman?utm_source=application&utm_campaign=api&utm_medium=na%3A1409625037493',\n",
       "      'track_edit_url': 'https://www.musixmatch.com/lyrics/Deviate-Flows/Awagaman/edit?utm_source=application&utm_campaign=api&utm_medium=na%3A1409625037493',\n",
       "      'restricted': 0,\n",
       "      'updated_time': '2023-09-22T22:01:59Z',\n",
       "      'primary_genres': {'music_genre_list': [{'music_genre': {'music_genre_id': 14,\n",
       "          'music_genre_parent_id': 34,\n",
       "          'music_genre_name': 'Pop',\n",
       "          'music_genre_name_extended': 'Pop',\n",
       "          'music_genre_vanity': 'Pop'}}]}}}]}}}"
      ]
     },
     "execution_count": 78,
     "metadata": {},
     "output_type": "execute_result"
    }
   ],
   "source": [
    "data"
   ]
  },
  {
   "cell_type": "code",
   "execution_count": 81,
   "id": "8044fe55-08b4-452d-b29e-6344105039ef",
   "metadata": {},
   "outputs": [
    {
     "name": "stdout",
     "output_type": "stream",
     "text": [
      "Aao chalein safar pe\n",
      "Saaf nahi dekho yeh sadkein\n",
      "Mere hain chhape kadam yeh\n",
      "Roz jo khud hi sanwarte\n",
      "Sambhal ke paon the badhte\n",
      "Aaj hu tere hi dar pe\n",
      "Dil ki awaaz hai, soch ye saaf\n",
      "Main likhta hu man se\n",
      "Fir chaahu voh samjhein\n",
      "\n",
      "Haqeeqat se bade hain sapne\n",
      "Aur sapnon se bade hain maqsad\n",
      "Qeemat ka jinki andaaz nahi\n",
      "In sabko alag hi safar par\n",
      "\n",
      "Kyun badhte hain khud hi\n",
      "In aankhon me\n",
      "Dikhegi chamak\n",
      "Aa paas se dekh\n",
      "Nazrein kar neeche\n",
      "Toh gaddhon me dikhenge dukh\n",
      "Haan kaisa kamaal hai yeh\n",
      "...\n",
      "\n",
      "******* This Lyrics is NOT for Commercial use *******\n",
      "(1409625037493)\n"
     ]
    }
   ],
   "source": [
    "if data['message']['header']['status_code'] == 200 and data['message']['body']['track_list']:\n",
    "    track_id = data['message']['body']['track_list'][0]['track']['track_id']\n",
    "    lyrics_response = requests.get(f'https://api.musixmatch.com/ws/1.1/track.lyrics.get?track_id={track_id}&apikey={api_key}')\n",
    "    lyrics_data = lyrics_response.json()\n",
    "\n",
    "    if 'lyrics' in lyrics_data['message']['body']:\n",
    "        print(lyrics_data['message']['body']['lyrics']['lyrics_body'])\n",
    "    else:\n",
    "        print(\"No lyrics found for this track.\")\n"
   ]
  },
  {
   "cell_type": "code",
   "execution_count": null,
   "id": "2163ca4f-e287-4d2d-9b91-b4843d853b30",
   "metadata": {},
   "outputs": [],
   "source": []
  },
  {
   "cell_type": "code",
   "execution_count": null,
   "id": "bc3a0495-032a-4bd9-a0c8-8986154d6f01",
   "metadata": {},
   "outputs": [],
   "source": []
  },
  {
   "cell_type": "code",
   "execution_count": null,
   "id": "9476cf04-c98a-4bae-9e2e-769539c6549c",
   "metadata": {},
   "outputs": [],
   "source": []
  },
  {
   "cell_type": "code",
   "execution_count": null,
   "id": "067ec403-bb5b-4a82-a6c5-9b30d99186ed",
   "metadata": {},
   "outputs": [],
   "source": []
  },
  {
   "cell_type": "code",
   "execution_count": 85,
   "id": "f4042317-92a9-4460-8f34-7e515edaa241",
   "metadata": {},
   "outputs": [],
   "source": [
    "finallyrics = lyrics_data['message']['body']['lyrics']['lyrics_body']"
   ]
  },
  {
   "cell_type": "code",
   "execution_count": 95,
   "id": "0fe0a23b-810d-4f3f-acb2-0d7cb43596e9",
   "metadata": {},
   "outputs": [],
   "source": [
    "import re"
   ]
  },
  {
   "cell_type": "code",
   "execution_count": 99,
   "id": "969d1dfe-a692-4f49-b9fc-79cb096ac424",
   "metadata": {},
   "outputs": [],
   "source": [
    "finallyrics = re.split(r\"\\n\\*+ This Lyrics is NOT for Commercial use \\*+\\n|\\(\\d+\\)$\", finallyrics)[0]"
   ]
  },
  {
   "cell_type": "code",
   "execution_count": 101,
   "id": "7b468149-5430-4255-a2a8-0277d27b3b26",
   "metadata": {},
   "outputs": [
    {
     "name": "stdout",
     "output_type": "stream",
     "text": [
      "Aao chalein safar pe\n",
      "Saaf nahi dekho yeh sadkein\n",
      "Mere hain chhape kadam yeh\n",
      "Roz jo khud hi sanwarte\n",
      "Sambhal ke paon the badhte\n",
      "Aaj hu tere hi dar pe\n",
      "Dil ki awaaz hai, soch ye saaf\n",
      "Main likhta hu man se\n",
      "Fir chaahu voh samjhein\n",
      "\n",
      "Haqeeqat se bade hain sapne\n",
      "Aur sapnon se bade hain maqsad\n",
      "Qeemat ka jinki andaaz nahi\n",
      "In sabko alag hi safar par\n",
      "\n",
      "Kyun badhte hain khud hi\n",
      "In aankhon me\n",
      "Dikhegi chamak\n",
      "Aa paas se dekh\n",
      "Nazrein kar neeche\n",
      "Toh gaddhon me dikhenge dukh\n",
      "Haan kaisa kamaal hai yeh\n",
      "...\n",
      "\n"
     ]
    }
   ],
   "source": [
    "print(finallyrics)"
   ]
  },
  {
   "cell_type": "code",
   "execution_count": null,
   "id": "c2860bd0-b23a-4d18-8821-38f8ef4b0170",
   "metadata": {},
   "outputs": [],
   "source": []
  },
  {
   "cell_type": "code",
   "execution_count": 113,
   "id": "92937560-8aa0-4b41-aa99-9e10c0120f15",
   "metadata": {},
   "outputs": [
    {
     "name": "stderr",
     "output_type": "stream",
     "text": [
      "2024-10-26 12:32:32,276 - INFO - Fetching lyrics for track: 'Meethi Boliyaan' by artist: 'Amit Trivedi'\n",
      "2024-10-26 12:32:32,701 - INFO - API response received successfully.\n",
      "2024-10-26 12:32:32,703 - INFO - Track ID found: 264527510\n"
     ]
    },
    {
     "data": {
      "text/plain": [
       "'कुछ लम्हे थे अलसाए से, भरमाए से फ़िज़ा में\\nकभी सहमे से मुस्काए थे, जाना किधर ना जानें\\n\\nमीठी बोलियाँ सुन लो आसमानी रंगों की\\nमीठी बोलियाँ सुन लो बेज़ुबानी लम्हों की\\n\\nगिरते, सँभलते, चलते लड़खड़ाए\\nहाँ, मगर ये हौसला ना डगमगाए\\nअरमानो के पतंग को उड़ाएँ (उड़ाएँ)\\n\\nऐ ज़िंदगी, हमें सोहबतों का नशा है\\nये सोहबतें यारों की\\nऐ ज़िंदगी, हमें होश की ना तू दवा दे\\n...'"
      ]
     },
     "execution_count": 113,
     "metadata": {},
     "output_type": "execute_result"
    }
   ],
   "source": [
    "import spotipy\n",
    "from spotipy.oauth2 import SpotifyClientCredentials\n",
    "import requests\n",
    "import pandas as pd\n",
    "import re\n",
    "import logging\n",
    "\n",
    "logging.basicConfig(level=logging.INFO, format='%(asctime)s - %(levelname)s - %(message)s')\n",
    "\n",
    "client_id = \"de68ee68278e466d82ae18ebade5ce7e\"\n",
    "client_secret = \"8c0b96f3f3854e8cb352c8cdae666520\"\n",
    "api_key = \"31a518f4199f09a6f2a39f4c223346e3\"\n",
    "\n",
    "sp = spotipy.Spotify(auth_manager=SpotifyClientCredentials(client_id=client_id, client_secret=client_secret))\n",
    "\n",
    "def get_lyrics(track_name, artist_name):\n",
    "    logging.info(f\"Fetching lyrics for track: '{track_name}' by artist: '{artist_name}'\")\n",
    "    \n",
    "    endpoint = \"https://api.musixmatch.com/ws/1.1/track.search\"\n",
    "    params = {\n",
    "        'q_track': track_name,\n",
    "        'q_artist': artist_name,\n",
    "        'apikey': api_key,\n",
    "        'format': 'json'\n",
    "    }\n",
    "    \n",
    "    try:\n",
    "        response = requests.get(endpoint, params=params)\n",
    "        response.raise_for_status()\n",
    "        data = response.json()\n",
    "        logging.info(\"API response received successfully.\")\n",
    "\n",
    "        if data['message']['header']['status_code'] == 200 and data['message']['body']['track_list']:\n",
    "            track_id = data['message']['body']['track_list'][0]['track']['track_id']\n",
    "            logging.info(f\"Track ID found: {track_id}\")\n",
    "            \n",
    "            lyrics_response = requests.get(f'https://api.musixmatch.com/ws/1.1/track.lyrics.get?track_id={track_id}&apikey={api_key}')\n",
    "            lyrics_response.raise_for_status()\n",
    "            lyrics_data = lyrics_response.json()\n",
    "\n",
    "            if 'lyrics' in lyrics_data['message']['body']:\n",
    "                lyrics = lyrics_data['message']['body']['lyrics']['lyrics_body']\n",
    "                lyrics = re.split(r\"\\n\\*+ This Lyrics is NOT for Commercial use \\*+\\n|\\(\\d+\\)$\", lyrics)[0]\n",
    "                return lyrics.strip()\n",
    "            else:\n",
    "                logging.warning(f\"No lyrics found for track ID: {track_id}.\")\n",
    "                return None\n",
    "        else:\n",
    "            logging.warning(f\"No track ID found for '{track_name}' by '{artist_name}'.\")\n",
    "            return None\n",
    "    except requests.exceptions.RequestException as e:\n",
    "        logging.error(f\"Request failed: {e}\")\n",
    "        return None\n",
    "\n",
    "get_lyrics('Meethi Boliyaan','Amit Trivedi')"
   ]
  },
  {
   "cell_type": "code",
   "execution_count": null,
   "id": "9e94b554-321a-4fab-920e-cdefd9005f28",
   "metadata": {},
   "outputs": [],
   "source": []
  }
 ],
 "metadata": {
  "kernelspec": {
   "display_name": "Python 3 (ipykernel)",
   "language": "python",
   "name": "python3"
  },
  "language_info": {
   "codemirror_mode": {
    "name": "ipython",
    "version": 3
   },
   "file_extension": ".py",
   "mimetype": "text/x-python",
   "name": "python",
   "nbconvert_exporter": "python",
   "pygments_lexer": "ipython3",
   "version": "3.12.4"
  }
 },
 "nbformat": 4,
 "nbformat_minor": 5
}
